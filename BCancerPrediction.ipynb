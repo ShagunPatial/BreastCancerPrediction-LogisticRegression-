{
  "nbformat": 4,
  "nbformat_minor": 0,
  "metadata": {
    "colab": {
      "name": "BCancerPrediction.ipynb",
      "provenance": [],
      "toc_visible": true
    },
    "kernelspec": {
      "name": "python3",
      "display_name": "Python 3"
    }
  },
  "cells": [
    {
      "cell_type": "markdown",
      "metadata": {
        "id": "8mtZAjSxnHvK",
        "colab_type": "text"
      },
      "source": [
        "**Importing the Libraries**"
      ]
    },
    {
      "cell_type": "code",
      "metadata": {
        "id": "8jnQ0r3BnA9F",
        "colab_type": "code",
        "colab": {}
      },
      "source": [
        "import pandas as pd"
      ],
      "execution_count": 4,
      "outputs": []
    },
    {
      "cell_type": "markdown",
      "metadata": {
        "id": "TCvAROQMtqMS",
        "colab_type": "text"
      },
      "source": [
        "**Importing the Dataset of Breast Cancer**"
      ]
    },
    {
      "cell_type": "code",
      "metadata": {
        "id": "EaJIKNbvvwlV",
        "colab_type": "code",
        "colab": {}
      },
      "source": [
        "dataset=pd.read_csv(\"breast_cancer.csv\")\n",
        "#dataset.head()\n",
        "X=dataset.iloc[:,1:-1].values\n",
        "Y=dataset.iloc[:,-1].values"
      ],
      "execution_count": 9,
      "outputs": []
    },
    {
      "cell_type": "markdown",
      "metadata": {
        "id": "7Ro9CJ_rt5GP",
        "colab_type": "text"
      },
      "source": [
        "**Splitting of Dataset**"
      ]
    },
    {
      "cell_type": "code",
      "metadata": {
        "id": "VyIe5zgBwfe4",
        "colab_type": "code",
        "colab": {}
      },
      "source": [
        "from sklearn.model_selection import train_test_split\n",
        "X_train , X_test , Y_train, Y_test = train_test_split(X,Y,test_size=0.2,random_state=0)"
      ],
      "execution_count": 11,
      "outputs": []
    },
    {
      "cell_type": "markdown",
      "metadata": {
        "id": "92O0JuiUuE5a",
        "colab_type": "text"
      },
      "source": [
        "**Training of Model (LOGISTIC REGRESSION)**"
      ]
    },
    {
      "cell_type": "code",
      "metadata": {
        "id": "A_mfBgNqxSw-",
        "colab_type": "code",
        "colab": {
          "base_uri": "https://localhost:8080/",
          "height": 101
        },
        "outputId": "bbdc7e6b-2e77-4364-8796-5be9a54d7f24"
      },
      "source": [
        "from sklearn.linear_model import LogisticRegression\n",
        "classifier= LogisticRegression(random_state=0)\n",
        "classifier.fit(X_train,Y_train)"
      ],
      "execution_count": 13,
      "outputs": [
        {
          "output_type": "execute_result",
          "data": {
            "text/plain": [
              "LogisticRegression(C=1.0, class_weight=None, dual=False, fit_intercept=True,\n",
              "                   intercept_scaling=1, l1_ratio=None, max_iter=100,\n",
              "                   multi_class='auto', n_jobs=None, penalty='l2',\n",
              "                   random_state=0, solver='lbfgs', tol=0.0001, verbose=0,\n",
              "                   warm_start=False)"
            ]
          },
          "metadata": {
            "tags": []
          },
          "execution_count": 13
        }
      ]
    },
    {
      "cell_type": "markdown",
      "metadata": {
        "id": "zhvB-VmvuQHa",
        "colab_type": "text"
      },
      "source": [
        "**Predicting the Test Result**"
      ]
    },
    {
      "cell_type": "code",
      "metadata": {
        "id": "7BxZ2nDbyNN4",
        "colab_type": "code",
        "colab": {}
      },
      "source": [
        "Y_pred = classifier.predict(X_test)\n"
      ],
      "execution_count": 15,
      "outputs": []
    },
    {
      "cell_type": "markdown",
      "metadata": {
        "id": "XbRpWi-zuhRX",
        "colab_type": "text"
      },
      "source": [
        "**Confusion Matrix**"
      ]
    },
    {
      "cell_type": "code",
      "metadata": {
        "id": "9Y34eoVTyhye",
        "colab_type": "code",
        "colab": {
          "base_uri": "https://localhost:8080/",
          "height": 50
        },
        "outputId": "2c494b9a-8e96-44b2-aee0-af9ba373e7ec"
      },
      "source": [
        "from sklearn.metrics import confusion_matrix\n",
        "cm = confusion_matrix(Y_test,Y_pred)\n",
        "print(cm)"
      ],
      "execution_count": 16,
      "outputs": [
        {
          "output_type": "stream",
          "text": [
            "[[84  3]\n",
            " [ 3 47]]\n"
          ],
          "name": "stdout"
        }
      ]
    },
    {
      "cell_type": "markdown",
      "metadata": {
        "id": "-pSF4DkAvX6P",
        "colab_type": "text"
      },
      "source": [
        "**Computing the accuray with K-Fold Cross Validation**"
      ]
    },
    {
      "cell_type": "code",
      "metadata": {
        "id": "ySX-YDd9zBs8",
        "colab_type": "code",
        "colab": {
          "base_uri": "https://localhost:8080/",
          "height": 50
        },
        "outputId": "dd85025a-ae62-476a-fa53-913807a576ef"
      },
      "source": [
        "from sklearn.model_selection import cross_val_score\n",
        "acc = cross_val_score(estimator = classifier , X= X_train ,y= Y_train , cv=10)\n",
        "print(\"Accuracy : {:.2f} %\".format(acc.mean()*100))  #  Average of 10 observations\n",
        "print(\"Standard Deviation : {:.2f} %\".format(acc.std()*100))   # Standard deviation of 10 observation"
      ],
      "execution_count": 19,
      "outputs": [
        {
          "output_type": "stream",
          "text": [
            "Accuracy : 96.70 %\n",
            "Standard Deviation : 1.97 %\n"
          ],
          "name": "stdout"
        }
      ]
    }
  ]
}